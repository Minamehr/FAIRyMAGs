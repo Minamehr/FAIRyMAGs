{
 "cells": [
  {
   "cell_type": "code",
   "execution_count": 1,
   "metadata": {},
   "outputs": [],
   "source": [
    "import pandas as pd\n",
    "import urllib.request\n",
    "import json\n",
    "import concurrent.futures\n",
    "from tqdm import tqdm  # Progress bar\n"
   ]
  },
  {
   "cell_type": "markdown",
   "metadata": {},
   "source": [
    "# Filter the assembly stats for specific version and assembler"
   ]
  },
  {
   "cell_type": "code",
   "execution_count": 2,
   "metadata": {},
   "outputs": [
    {
     "name": "stdout",
     "output_type": "stream",
     "text": [
      "Sample count per assembler version:\n",
      "assembler_version\n",
      "3.15.3    9102\n",
      "3.12.0    5621\n",
      "3.14.1    5542\n",
      "3.10.0    2669\n",
      "3.13.0    1773\n",
      "3.11.1     445\n",
      "3.10.1     107\n",
      "3.11.0      54\n",
      "3.13.1       8\n",
      "3.14         3\n",
      "Name: count, dtype: int64\n",
      "\n",
      "Lineage count for assembler version 3.15.3:\n",
      "lineage\n",
      "root:Host-associated:Human:Digestive system:Large intestine:Fecal      2063\n",
      "root:Host-associated:Mammals:Gastrointestinal tract:Intestine:Fecal    1439\n",
      "root:Environmental:Aquatic:Marine                                       756\n",
      "root:Host-associated:Human:Digestive system:Oral                        743\n",
      "root:Host-associated:Human:Skin                                         433\n",
      "root:Host-associated:Insecta:Digestive system                           377\n",
      "root:Host-associated:Human:Digestive system                             354\n",
      "root:Host-associated:Human:Excretory system:Urethra:Urine               331\n",
      "root:Host-associated:Mammals:Digestive system:Large intestine:Fecal     267\n",
      "root:Host-associated:Mammals:Gastrointestinal tract:Intestine           210\n",
      "root:Host-associated:Plants                                             188\n",
      "root:Host-associated:Fish:Digestive system                              183\n",
      "root:Host-associated:Insecta                                            182\n",
      "root:Host-associated:Human:Digestive system:Hindgut:Rectum              171\n",
      "root:Engineered:Wastewater                                              152\n",
      "root:Host-associated:Human:Reproductive system:Vagina                   149\n",
      "root:Host-associated:Plants:Rhizosphere                                 139\n",
      "root:Host-associated:Human:Digestive system:Oral:Subgingival plaque     138\n",
      "root:Host-associated:Mammals:Gastrointestinal tract                     132\n",
      "root:Host-associated:Animal:Digestive system:Fecal                      132\n",
      "root:Environmental:Aquatic:Marine:Oceanic                               130\n",
      "root:Host-associated:Human:Digestive system:Large intestine             118\n",
      "root:Host-associated:Mammals:Digestive system                            59\n",
      "root:Environmental:Terrestrial:Soil:Forest soil                          36\n",
      "root:Host-associated:Human:Digestive system:Oral:Saliva                  32\n",
      "root:Environmental:Aquatic:Freshwater:Drinking water                     23\n",
      "root:Host-associated:Mammals:Digestive system:Fecal                      23\n",
      "root:Environmental:Terrestrial:Soil                                      21\n",
      "root:Environmental:Terrestrial:Soil:Contaminated                         20\n",
      "root:Host-associated:Plants:Rhizosphere:Soil                             17\n",
      "root:Host-associated:Plants:Phylloplane                                  15\n",
      "root:Host-associated:Mammals:Digestive system:Large intestine:Cecum      12\n",
      "root:Host-associated:Birds:Digestive system:Ceca                         10\n",
      "root:Host-associated:Plants:Rhizoplane:Soil                               9\n",
      "root:Host-associated:Arthropoda:Digestive system:Gut                      6\n",
      "root:Environmental:Aquatic:Freshwater:Groundwater                         6\n",
      "root:Host-associated:Birds:Digestive system:Fecal                         5\n",
      "root:Host-associated:Human:Digestive system:Hindgut                       5\n",
      "root:Environmental:Aquatic:Freshwater:Lotic:Low land river systems        5\n",
      "root:Mixed                                                                4\n",
      "root:Host-associated:Porifera                                             3\n",
      "root:Host-associated:Birds:Digestive system                               1\n",
      "root:Environmental:Terrestrial:Soil:Agricultural                          1\n",
      "root:Environmental:Terrestrial:Soil:Oil-contaminated                      1\n",
      "root:Engineered:Solid waste:Composting                                    1\n",
      "Name: count, dtype: int64\n"
     ]
    }
   ],
   "source": [
    "# Read the CSV file\n",
    "stats_df = pd.read_csv(\"input/mgnify_assemblies_stats.csv\")\n",
    "\n",
    "# Filter for assembler \"metaspades\"\n",
    "filtered_df = stats_df[stats_df[\"assembler\"] == \"metaspades\"]\n",
    "\n",
    "# Count samples per assembler version\n",
    "version_counts = filtered_df[\"assembler_version\"].value_counts()\n",
    "\n",
    "# Select the latest version (assuming 3.15.3 is the latest)\n",
    "latest_version = \"3.15.3\"\n",
    "latest_version_df = filtered_df[filtered_df[\"assembler_version\"] == latest_version]\n",
    "\n",
    "# Count occurrences of each lineage\n",
    "lineage_counts = latest_version_df[\"lineage\"].value_counts()\n",
    "\n",
    "# Print the results\n",
    "print(f\"Sample count per assembler version:\\n{version_counts}\\n\")\n",
    "print(f\"Lineage count for assembler version {latest_version}:\\n{lineage_counts}\")\n"
   ]
  },
  {
   "cell_type": "markdown",
   "metadata": {},
   "source": [
    "# Add SSR via EBI API"
   ]
  },
  {
   "cell_type": "code",
   "execution_count": 3,
   "metadata": {},
   "outputs": [
    {
     "name": "stderr",
     "output_type": "stream",
     "text": [
      "100%|██████████| 9102/9102 [1:15:51<00:00,  2.00it/s]\n"
     ]
    }
   ],
   "source": [
    "# Use the latest version DataFrame\n",
    "stats_df = latest_version_df.copy()\n",
    "\n",
    "# Function to fetch SRR ID\n",
    "def fetch_srr_id(erz_id):\n",
    "    try:\n",
    "        with urllib.request.urlopen(f\"https://www.ebi.ac.uk/metagenomics/api/v1/assemblies/{erz_id}?format=json\") as url:\n",
    "            data = json.load(url)\n",
    "        srr_id = data[\"data\"][\"relationships\"][\"runs\"][\"data\"][0][\"id\"]\n",
    "        return erz_id, srr_id  # Return tuple\n",
    "    except Exception as e:\n",
    "        return erz_id, None  # Return None instead of printing for efficiency\n",
    "\n",
    "# Use threading for I/O-bound operations\n",
    "results = []\n",
    "with concurrent.futures.ThreadPoolExecutor(max_workers=20) as executor:  # Adjust workers as needed\n",
    "    future_to_erz = {executor.submit(fetch_srr_id, erz_id): erz_id for erz_id in stats_df[\"primary_accession\"]}\n",
    "    \n",
    "    # Use tqdm for progress tracking\n",
    "    for future in tqdm(concurrent.futures.as_completed(future_to_erz), total=len(future_to_erz)):\n",
    "        results.append(future.result())\n",
    "\n",
    "# Convert results to a dictionary and update DataFrame\n",
    "srr_dict = dict(results)\n",
    "stats_df[\"srr_id\"] = stats_df[\"primary_accession\"].map(srr_dict)\n",
    "\n",
    "# Save updated DataFrame to a new CSV\n",
    "stats_df.to_csv(\"updated_mgnify_assemblies_stats_v3.15.3_metaspades.csv\", index=False)\n"
   ]
  },
  {
   "cell_type": "markdown",
   "metadata": {},
   "source": [
    "# Pick biomes, store full list and only SRR for Galaxy"
   ]
  },
  {
   "cell_type": "code",
   "execution_count": 12,
   "metadata": {},
   "outputs": [
    {
     "name": "stdout",
     "output_type": "stream",
     "text": [
      "Biomes\n",
      "Engineered:Wastewater         30\n",
      "Environmental:Aquatic         30\n",
      "Environmental:Terrestrial     30\n",
      "Host-associated:Animal        30\n",
      "Host-associated:Fish          30\n",
      "Host-associated:Human         30\n",
      "Host-associated:Insecta       30\n",
      "Host-associated:Mammals       30\n",
      "Host-associated:Plants        30\n",
      "Host-associated:Birds         16\n",
      "Host-associated:Arthropoda     6\n",
      "Mixed                          4\n",
      "Host-associated:Porifera       3\n",
      "Engineered:Solid waste         1\n",
      "Name: count, dtype: int64\n"
     ]
    },
    {
     "name": "stderr",
     "output_type": "stream",
     "text": [
      "/tmp/ipykernel_471418/85603516.py:7: DeprecationWarning: DataFrameGroupBy.apply operated on the grouping columns. This behavior is deprecated, and in a future version of pandas the grouping columns will be excluded from the operation. Either pass `include_groups=False` to exclude the groupings or explicitly select the grouping columns after groupby to silence this warning.\n",
      "  new_df = stats_df.groupby(\"Biomes\", group_keys=False).apply(lambda x: x.sample(n=min(len(x), 30), random_state=42))\n"
     ]
    }
   ],
   "source": [
    "# Get 30 samples per biome (otherwise this runs too long !!)\n",
    "\n",
    "stats_df = pd.read_csv(\"updated_mgnify_assemblies_stats_v3.15.3_metaspades.csv\")\n",
    "stats_df[\"Biomes\"] = stats_df[\"lineage\"].str.split(':').str[1:3].str.join(':')\n",
    "stats_df[\"Biomes\"].value_counts()\n",
    "\n",
    "new_df = stats_df.groupby(\"Biomes\", group_keys=False).apply(lambda x: x.sample(n=min(len(x), 30), random_state=42))\n",
    "new_df.head()\n",
    "\n",
    "print(new_df[\"Biomes\"].value_counts())\n",
    "\n",
    "new_df.to_csv(\"updated_mgnify_assemblies_stats_v3.15.3_metaspades_subset.csv\", index=False)\n",
    "new_df = new_df.loc[:,\"srr_id\"]\n",
    "new_df.to_csv(\"updated_mgnify_assemblies_stats_v3.15.3_metaspades_subset_srr.csv\", index=False, header=False)"
   ]
  }
 ],
 "metadata": {
  "kernelspec": {
   "display_name": "ML",
   "language": "python",
   "name": "python3"
  },
  "language_info": {
   "codemirror_mode": {
    "name": "ipython",
    "version": 3
   },
   "file_extension": ".py",
   "mimetype": "text/x-python",
   "name": "python",
   "nbconvert_exporter": "python",
   "pygments_lexer": "ipython3",
   "version": "3.9.21"
  }
 },
 "nbformat": 4,
 "nbformat_minor": 2
}
